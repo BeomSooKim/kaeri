{
 "cells": [
  {
   "cell_type": "code",
   "execution_count": 3,
   "metadata": {},
   "outputs": [],
   "source": [
    "import pandas as pd\n",
    "import os\n",
    "import numpy as np"
   ]
  },
  {
   "cell_type": "code",
   "execution_count": 9,
   "metadata": {},
   "outputs": [],
   "source": [
    "folder = [\n",
    "    './model/20200701-103001',\n",
    "    './model/20200701-112954',\n",
    "    './model/20200701-120827'\n",
    "]"
   ]
  },
  {
   "cell_type": "code",
   "execution_count": 10,
   "metadata": {},
   "outputs": [],
   "source": [
    "values = np.zeros((700, 4))\n",
    "for f in folder:\n",
    "    data = pd.read_csv(os.path.join(f, f.split('/')[-1] + '.csv'))\n",
    "    values += data[['X','Y','M','V']].values * 10"
   ]
  },
  {
   "cell_type": "code",
   "execution_count": 11,
   "metadata": {},
   "outputs": [
    {
     "data": {
      "text/html": [
       "<div>\n",
       "<style scoped>\n",
       "    .dataframe tbody tr th:only-of-type {\n",
       "        vertical-align: middle;\n",
       "    }\n",
       "\n",
       "    .dataframe tbody tr th {\n",
       "        vertical-align: top;\n",
       "    }\n",
       "\n",
       "    .dataframe thead th {\n",
       "        text-align: right;\n",
       "    }\n",
       "</style>\n",
       "<table border=\"1\" class=\"dataframe\">\n",
       "  <thead>\n",
       "    <tr style=\"text-align: right;\">\n",
       "      <th></th>\n",
       "      <th>id</th>\n",
       "      <th>X</th>\n",
       "      <th>Y</th>\n",
       "      <th>M</th>\n",
       "      <th>V</th>\n",
       "    </tr>\n",
       "  </thead>\n",
       "  <tbody>\n",
       "    <tr>\n",
       "      <th>0</th>\n",
       "      <td>2800</td>\n",
       "      <td>-263.206075</td>\n",
       "      <td>-40.152590</td>\n",
       "      <td>112.769605</td>\n",
       "      <td>0.460012</td>\n",
       "    </tr>\n",
       "    <tr>\n",
       "      <th>1</th>\n",
       "      <td>2801</td>\n",
       "      <td>317.585205</td>\n",
       "      <td>-285.753072</td>\n",
       "      <td>89.757713</td>\n",
       "      <td>0.467117</td>\n",
       "    </tr>\n",
       "    <tr>\n",
       "      <th>2</th>\n",
       "      <td>2802</td>\n",
       "      <td>-237.227259</td>\n",
       "      <td>129.474452</td>\n",
       "      <td>30.179289</td>\n",
       "      <td>0.384934</td>\n",
       "    </tr>\n",
       "    <tr>\n",
       "      <th>3</th>\n",
       "      <td>2803</td>\n",
       "      <td>163.627268</td>\n",
       "      <td>275.207652</td>\n",
       "      <td>27.268180</td>\n",
       "      <td>0.406322</td>\n",
       "    </tr>\n",
       "    <tr>\n",
       "      <th>4</th>\n",
       "      <td>2804</td>\n",
       "      <td>-162.806330</td>\n",
       "      <td>189.854696</td>\n",
       "      <td>132.276413</td>\n",
       "      <td>0.459794</td>\n",
       "    </tr>\n",
       "  </tbody>\n",
       "</table>\n",
       "</div>"
      ],
      "text/plain": [
       "     id           X           Y           M         V\n",
       "0  2800 -263.206075  -40.152590  112.769605  0.460012\n",
       "1  2801  317.585205 -285.753072   89.757713  0.467117\n",
       "2  2802 -237.227259  129.474452   30.179289  0.384934\n",
       "3  2803  163.627268  275.207652   27.268180  0.406322\n",
       "4  2804 -162.806330  189.854696  132.276413  0.459794"
      ]
     },
     "execution_count": 11,
     "metadata": {},
     "output_type": "execute_result"
    }
   ],
   "source": [
    "values = values / 30\n",
    "submission = pd.read_csv('D:/datasets/KAERI_dataset/sample_submission.csv')\n",
    "submission[['X','Y','M','V']] = values\n",
    "submission.head()"
   ]
  },
  {
   "cell_type": "code",
   "execution_count": 12,
   "metadata": {},
   "outputs": [],
   "source": [
    "submission.to_csv(os.path.join(folder[-1], 'ensemble_submit.csv'), index = False)"
   ]
  }
 ],
 "metadata": {
  "kernelspec": {
   "display_name": "Python 3",
   "language": "python",
   "name": "python3"
  },
  "language_info": {
   "codemirror_mode": {
    "name": "ipython",
    "version": 3
   },
   "file_extension": ".py",
   "mimetype": "text/x-python",
   "name": "python",
   "nbconvert_exporter": "python",
   "pygments_lexer": "ipython3",
   "version": "3.7.0"
  }
 },
 "nbformat": 4,
 "nbformat_minor": 4
}
