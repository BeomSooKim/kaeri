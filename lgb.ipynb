{
 "cells": [
  {
   "cell_type": "code",
   "execution_count": 1,
   "metadata": {},
   "outputs": [],
   "source": [
    "import pandas as pd\n",
    "import os\n",
    "import numpy as np\n",
    "from matplotlib import pyplot as plt\n",
    "import seaborn as sns\n",
    "plt.style.use('seaborn')"
   ]
  },
  {
   "cell_type": "code",
   "execution_count": 24,
   "metadata": {},
   "outputs": [],
   "source": [
    "root_dir = 'D:/datasets/KAERI_dataset'\n",
    "\n",
    "train_f = pd.read_csv(os.path.join(root_dir, 'train_features.csv'))\n",
    "train_t = pd.read_csv(os.path.join(root_dir, 'train_target.csv'))\n",
    "test_f = pd.read_csv(os.path.join(root_dir, 'test_features.csv'))"
   ]
  },
  {
   "cell_type": "code",
   "execution_count": 3,
   "metadata": {},
   "outputs": [
    {
     "data": {
      "text/plain": [
       "(1050000, 6)"
      ]
     },
     "execution_count": 3,
     "metadata": {},
     "output_type": "execute_result"
    }
   ],
   "source": [
    "train_f.shape"
   ]
  },
  {
   "cell_type": "code",
   "execution_count": 4,
   "metadata": {},
   "outputs": [
    {
     "data": {
      "text/html": [
       "<div>\n",
       "<style scoped>\n",
       "    .dataframe tbody tr th:only-of-type {\n",
       "        vertical-align: middle;\n",
       "    }\n",
       "\n",
       "    .dataframe tbody tr th {\n",
       "        vertical-align: top;\n",
       "    }\n",
       "\n",
       "    .dataframe thead th {\n",
       "        text-align: right;\n",
       "    }\n",
       "</style>\n",
       "<table border=\"1\" class=\"dataframe\">\n",
       "  <thead>\n",
       "    <tr style=\"text-align: right;\">\n",
       "      <th></th>\n",
       "      <th>id</th>\n",
       "      <th>Time</th>\n",
       "      <th>S1</th>\n",
       "      <th>S2</th>\n",
       "      <th>S3</th>\n",
       "      <th>S4</th>\n",
       "    </tr>\n",
       "  </thead>\n",
       "  <tbody>\n",
       "    <tr>\n",
       "      <th>0</th>\n",
       "      <td>0</td>\n",
       "      <td>0.000000</td>\n",
       "      <td>0.0</td>\n",
       "      <td>0.0</td>\n",
       "      <td>0.0</td>\n",
       "      <td>0.0</td>\n",
       "    </tr>\n",
       "    <tr>\n",
       "      <th>1</th>\n",
       "      <td>0</td>\n",
       "      <td>0.000004</td>\n",
       "      <td>0.0</td>\n",
       "      <td>0.0</td>\n",
       "      <td>0.0</td>\n",
       "      <td>0.0</td>\n",
       "    </tr>\n",
       "    <tr>\n",
       "      <th>2</th>\n",
       "      <td>0</td>\n",
       "      <td>0.000008</td>\n",
       "      <td>0.0</td>\n",
       "      <td>0.0</td>\n",
       "      <td>0.0</td>\n",
       "      <td>0.0</td>\n",
       "    </tr>\n",
       "    <tr>\n",
       "      <th>3</th>\n",
       "      <td>0</td>\n",
       "      <td>0.000012</td>\n",
       "      <td>0.0</td>\n",
       "      <td>0.0</td>\n",
       "      <td>0.0</td>\n",
       "      <td>0.0</td>\n",
       "    </tr>\n",
       "    <tr>\n",
       "      <th>4</th>\n",
       "      <td>0</td>\n",
       "      <td>0.000016</td>\n",
       "      <td>0.0</td>\n",
       "      <td>0.0</td>\n",
       "      <td>0.0</td>\n",
       "      <td>0.0</td>\n",
       "    </tr>\n",
       "  </tbody>\n",
       "</table>\n",
       "</div>"
      ],
      "text/plain": [
       "   id      Time   S1   S2   S3   S4\n",
       "0   0  0.000000  0.0  0.0  0.0  0.0\n",
       "1   0  0.000004  0.0  0.0  0.0  0.0\n",
       "2   0  0.000008  0.0  0.0  0.0  0.0\n",
       "3   0  0.000012  0.0  0.0  0.0  0.0\n",
       "4   0  0.000016  0.0  0.0  0.0  0.0"
      ]
     },
     "execution_count": 4,
     "metadata": {},
     "output_type": "execute_result"
    }
   ],
   "source": [
    "train_f.head()"
   ]
  },
  {
   "cell_type": "code",
   "execution_count": 5,
   "metadata": {},
   "outputs": [
    {
     "data": {
      "text/html": [
       "<div>\n",
       "<style scoped>\n",
       "    .dataframe tbody tr th:only-of-type {\n",
       "        vertical-align: middle;\n",
       "    }\n",
       "\n",
       "    .dataframe tbody tr th {\n",
       "        vertical-align: top;\n",
       "    }\n",
       "\n",
       "    .dataframe thead th {\n",
       "        text-align: right;\n",
       "    }\n",
       "</style>\n",
       "<table border=\"1\" class=\"dataframe\">\n",
       "  <thead>\n",
       "    <tr style=\"text-align: right;\">\n",
       "      <th></th>\n",
       "      <th>id</th>\n",
       "      <th>X</th>\n",
       "      <th>Y</th>\n",
       "      <th>M</th>\n",
       "      <th>V</th>\n",
       "    </tr>\n",
       "  </thead>\n",
       "  <tbody>\n",
       "    <tr>\n",
       "      <th>0</th>\n",
       "      <td>0</td>\n",
       "      <td>0.0</td>\n",
       "      <td>-400.0</td>\n",
       "      <td>50.0</td>\n",
       "      <td>0.4</td>\n",
       "    </tr>\n",
       "    <tr>\n",
       "      <th>1</th>\n",
       "      <td>1</td>\n",
       "      <td>400.0</td>\n",
       "      <td>0.0</td>\n",
       "      <td>100.0</td>\n",
       "      <td>1.0</td>\n",
       "    </tr>\n",
       "    <tr>\n",
       "      <th>2</th>\n",
       "      <td>2</td>\n",
       "      <td>-300.0</td>\n",
       "      <td>-200.0</td>\n",
       "      <td>25.0</td>\n",
       "      <td>0.4</td>\n",
       "    </tr>\n",
       "    <tr>\n",
       "      <th>3</th>\n",
       "      <td>3</td>\n",
       "      <td>200.0</td>\n",
       "      <td>-100.0</td>\n",
       "      <td>150.0</td>\n",
       "      <td>0.4</td>\n",
       "    </tr>\n",
       "    <tr>\n",
       "      <th>4</th>\n",
       "      <td>4</td>\n",
       "      <td>-300.0</td>\n",
       "      <td>-100.0</td>\n",
       "      <td>150.0</td>\n",
       "      <td>0.4</td>\n",
       "    </tr>\n",
       "  </tbody>\n",
       "</table>\n",
       "</div>"
      ],
      "text/plain": [
       "   id      X      Y      M    V\n",
       "0   0    0.0 -400.0   50.0  0.4\n",
       "1   1  400.0    0.0  100.0  1.0\n",
       "2   2 -300.0 -200.0   25.0  0.4\n",
       "3   3  200.0 -100.0  150.0  0.4\n",
       "4   4 -300.0 -100.0  150.0  0.4"
      ]
     },
     "execution_count": 5,
     "metadata": {},
     "output_type": "execute_result"
    }
   ],
   "source": [
    "train_t.head()"
   ]
  },
  {
   "cell_type": "code",
   "execution_count": 6,
   "metadata": {},
   "outputs": [
    {
     "data": {
      "text/html": [
       "<div>\n",
       "<style scoped>\n",
       "    .dataframe tbody tr th:only-of-type {\n",
       "        vertical-align: middle;\n",
       "    }\n",
       "\n",
       "    .dataframe tbody tr th {\n",
       "        vertical-align: top;\n",
       "    }\n",
       "\n",
       "    .dataframe thead th {\n",
       "        text-align: right;\n",
       "    }\n",
       "</style>\n",
       "<table border=\"1\" class=\"dataframe\">\n",
       "  <thead>\n",
       "    <tr style=\"text-align: right;\">\n",
       "      <th></th>\n",
       "      <th>id</th>\n",
       "      <th>Time</th>\n",
       "      <th>S1</th>\n",
       "      <th>S2</th>\n",
       "      <th>S3</th>\n",
       "      <th>S4</th>\n",
       "    </tr>\n",
       "  </thead>\n",
       "  <tbody>\n",
       "    <tr>\n",
       "      <th>0</th>\n",
       "      <td>2800</td>\n",
       "      <td>0.000000</td>\n",
       "      <td>0.0</td>\n",
       "      <td>0.0</td>\n",
       "      <td>0.0</td>\n",
       "      <td>0.0</td>\n",
       "    </tr>\n",
       "    <tr>\n",
       "      <th>1</th>\n",
       "      <td>2800</td>\n",
       "      <td>0.000004</td>\n",
       "      <td>0.0</td>\n",
       "      <td>0.0</td>\n",
       "      <td>0.0</td>\n",
       "      <td>0.0</td>\n",
       "    </tr>\n",
       "    <tr>\n",
       "      <th>2</th>\n",
       "      <td>2800</td>\n",
       "      <td>0.000008</td>\n",
       "      <td>0.0</td>\n",
       "      <td>0.0</td>\n",
       "      <td>0.0</td>\n",
       "      <td>0.0</td>\n",
       "    </tr>\n",
       "    <tr>\n",
       "      <th>3</th>\n",
       "      <td>2800</td>\n",
       "      <td>0.000012</td>\n",
       "      <td>0.0</td>\n",
       "      <td>0.0</td>\n",
       "      <td>0.0</td>\n",
       "      <td>0.0</td>\n",
       "    </tr>\n",
       "    <tr>\n",
       "      <th>4</th>\n",
       "      <td>2800</td>\n",
       "      <td>0.000016</td>\n",
       "      <td>0.0</td>\n",
       "      <td>0.0</td>\n",
       "      <td>0.0</td>\n",
       "      <td>0.0</td>\n",
       "    </tr>\n",
       "  </tbody>\n",
       "</table>\n",
       "</div>"
      ],
      "text/plain": [
       "     id      Time   S1   S2   S3   S4\n",
       "0  2800  0.000000  0.0  0.0  0.0  0.0\n",
       "1  2800  0.000004  0.0  0.0  0.0  0.0\n",
       "2  2800  0.000008  0.0  0.0  0.0  0.0\n",
       "3  2800  0.000012  0.0  0.0  0.0  0.0\n",
       "4  2800  0.000016  0.0  0.0  0.0  0.0"
      ]
     },
     "execution_count": 6,
     "metadata": {},
     "output_type": "execute_result"
    }
   ],
   "source": [
    "test_f.head()"
   ]
  },
  {
   "cell_type": "markdown",
   "metadata": {},
   "source": [
    "### train_feature"
   ]
  },
  {
   "cell_type": "code",
   "execution_count": 7,
   "metadata": {},
   "outputs": [
    {
     "data": {
      "text/plain": [
       "2047    375\n",
       "1333    375\n",
       "2361    375\n",
       "312     375\n",
       "1335    375\n",
       "       ... \n",
       "1645    375\n",
       "621     375\n",
       "2668    375\n",
       "1644    375\n",
       "0       375\n",
       "Name: id, Length: 2800, dtype: int64"
      ]
     },
     "execution_count": 7,
     "metadata": {},
     "output_type": "execute_result"
    }
   ],
   "source": [
    "train_f['id'].value_counts()"
   ]
  },
  {
   "cell_type": "code",
   "execution_count": 8,
   "metadata": {},
   "outputs": [
    {
     "data": {
      "text/plain": [
       "id      0\n",
       "Time    0\n",
       "S1      0\n",
       "S2      0\n",
       "S3      0\n",
       "S4      0\n",
       "dtype: int64"
      ]
     },
     "execution_count": 8,
     "metadata": {},
     "output_type": "execute_result"
    }
   ],
   "source": [
    "train_f.isnull().sum()"
   ]
  },
  {
   "cell_type": "code",
   "execution_count": 9,
   "metadata": {},
   "outputs": [
    {
     "data": {
      "text/plain": [
       "id\n",
       "0       375\n",
       "1       375\n",
       "2       375\n",
       "3       375\n",
       "4       375\n",
       "       ... \n",
       "2795    375\n",
       "2796    375\n",
       "2797    375\n",
       "2798    375\n",
       "2799    375\n",
       "Name: Time, Length: 2800, dtype: int64"
      ]
     },
     "execution_count": 9,
     "metadata": {},
     "output_type": "execute_result"
    }
   ],
   "source": [
    "train_f.groupby('id')['Time'].count()"
   ]
  },
  {
   "cell_type": "code",
   "execution_count": 10,
   "metadata": {},
   "outputs": [
    {
     "data": {
      "text/plain": [
       "id\n",
       "0       0.001496\n",
       "1       0.001496\n",
       "2       0.001496\n",
       "3       0.001496\n",
       "4       0.001496\n",
       "          ...   \n",
       "2795    0.001496\n",
       "2796    0.001496\n",
       "2797    0.001496\n",
       "2798    0.001496\n",
       "2799    0.001496\n",
       "Name: Time, Length: 2800, dtype: float64"
      ]
     },
     "execution_count": 10,
     "metadata": {},
     "output_type": "execute_result"
    }
   ],
   "source": [
    "train_f.groupby('id')['Time'].max()"
   ]
  },
  {
   "cell_type": "code",
   "execution_count": 11,
   "metadata": {},
   "outputs": [
    {
     "data": {
      "text/html": [
       "<div>\n",
       "<style scoped>\n",
       "    .dataframe tbody tr th:only-of-type {\n",
       "        vertical-align: middle;\n",
       "    }\n",
       "\n",
       "    .dataframe tbody tr th {\n",
       "        vertical-align: top;\n",
       "    }\n",
       "\n",
       "    .dataframe thead th {\n",
       "        text-align: right;\n",
       "    }\n",
       "</style>\n",
       "<table border=\"1\" class=\"dataframe\">\n",
       "  <thead>\n",
       "    <tr style=\"text-align: right;\">\n",
       "      <th></th>\n",
       "      <th>id</th>\n",
       "      <th>Time</th>\n",
       "      <th>S1</th>\n",
       "      <th>S2</th>\n",
       "      <th>S3</th>\n",
       "      <th>S4</th>\n",
       "    </tr>\n",
       "  </thead>\n",
       "  <tbody>\n",
       "    <tr>\n",
       "      <th>count</th>\n",
       "      <td>1.050000e+06</td>\n",
       "      <td>1.050000e+06</td>\n",
       "      <td>1.050000e+06</td>\n",
       "      <td>1.050000e+06</td>\n",
       "      <td>1.050000e+06</td>\n",
       "      <td>1.050000e+06</td>\n",
       "    </tr>\n",
       "    <tr>\n",
       "      <th>mean</th>\n",
       "      <td>1.399500e+03</td>\n",
       "      <td>7.480000e-04</td>\n",
       "      <td>-4.050983e+02</td>\n",
       "      <td>-4.050983e+02</td>\n",
       "      <td>-1.334343e+03</td>\n",
       "      <td>-1.605664e+03</td>\n",
       "    </tr>\n",
       "    <tr>\n",
       "      <th>std</th>\n",
       "      <td>8.082907e+02</td>\n",
       "      <td>4.330114e-04</td>\n",
       "      <td>2.753174e+05</td>\n",
       "      <td>2.753174e+05</td>\n",
       "      <td>2.655351e+05</td>\n",
       "      <td>3.026970e+05</td>\n",
       "    </tr>\n",
       "    <tr>\n",
       "      <th>min</th>\n",
       "      <td>0.000000e+00</td>\n",
       "      <td>0.000000e+00</td>\n",
       "      <td>-5.596468e+06</td>\n",
       "      <td>-5.596468e+06</td>\n",
       "      <td>-2.772952e+06</td>\n",
       "      <td>-6.069645e+06</td>\n",
       "    </tr>\n",
       "    <tr>\n",
       "      <th>25%</th>\n",
       "      <td>6.997500e+02</td>\n",
       "      <td>3.720000e-04</td>\n",
       "      <td>-7.426321e+04</td>\n",
       "      <td>-7.426321e+04</td>\n",
       "      <td>-7.855488e+04</td>\n",
       "      <td>-7.818371e+04</td>\n",
       "    </tr>\n",
       "    <tr>\n",
       "      <th>50%</th>\n",
       "      <td>1.399500e+03</td>\n",
       "      <td>7.480000e-04</td>\n",
       "      <td>0.000000e+00</td>\n",
       "      <td>0.000000e+00</td>\n",
       "      <td>0.000000e+00</td>\n",
       "      <td>0.000000e+00</td>\n",
       "    </tr>\n",
       "    <tr>\n",
       "      <th>75%</th>\n",
       "      <td>2.099250e+03</td>\n",
       "      <td>1.124000e-03</td>\n",
       "      <td>7.391142e+04</td>\n",
       "      <td>7.391142e+04</td>\n",
       "      <td>7.295836e+04</td>\n",
       "      <td>7.665808e+04</td>\n",
       "    </tr>\n",
       "    <tr>\n",
       "      <th>max</th>\n",
       "      <td>2.799000e+03</td>\n",
       "      <td>1.496000e-03</td>\n",
       "      <td>3.865086e+06</td>\n",
       "      <td>3.865086e+06</td>\n",
       "      <td>3.655237e+06</td>\n",
       "      <td>3.687344e+06</td>\n",
       "    </tr>\n",
       "  </tbody>\n",
       "</table>\n",
       "</div>"
      ],
      "text/plain": [
       "                 id          Time            S1            S2            S3  \\\n",
       "count  1.050000e+06  1.050000e+06  1.050000e+06  1.050000e+06  1.050000e+06   \n",
       "mean   1.399500e+03  7.480000e-04 -4.050983e+02 -4.050983e+02 -1.334343e+03   \n",
       "std    8.082907e+02  4.330114e-04  2.753174e+05  2.753174e+05  2.655351e+05   \n",
       "min    0.000000e+00  0.000000e+00 -5.596468e+06 -5.596468e+06 -2.772952e+06   \n",
       "25%    6.997500e+02  3.720000e-04 -7.426321e+04 -7.426321e+04 -7.855488e+04   \n",
       "50%    1.399500e+03  7.480000e-04  0.000000e+00  0.000000e+00  0.000000e+00   \n",
       "75%    2.099250e+03  1.124000e-03  7.391142e+04  7.391142e+04  7.295836e+04   \n",
       "max    2.799000e+03  1.496000e-03  3.865086e+06  3.865086e+06  3.655237e+06   \n",
       "\n",
       "                 S4  \n",
       "count  1.050000e+06  \n",
       "mean  -1.605664e+03  \n",
       "std    3.026970e+05  \n",
       "min   -6.069645e+06  \n",
       "25%   -7.818371e+04  \n",
       "50%    0.000000e+00  \n",
       "75%    7.665808e+04  \n",
       "max    3.687344e+06  "
      ]
     },
     "execution_count": 11,
     "metadata": {},
     "output_type": "execute_result"
    }
   ],
   "source": [
    "train_f.describe()"
   ]
  },
  {
   "cell_type": "code",
   "execution_count": 12,
   "metadata": {},
   "outputs": [
    {
     "data": {
      "text/html": [
       "<div>\n",
       "<style scoped>\n",
       "    .dataframe tbody tr th:only-of-type {\n",
       "        vertical-align: middle;\n",
       "    }\n",
       "\n",
       "    .dataframe tbody tr th {\n",
       "        vertical-align: top;\n",
       "    }\n",
       "\n",
       "    .dataframe thead th {\n",
       "        text-align: right;\n",
       "    }\n",
       "</style>\n",
       "<table border=\"1\" class=\"dataframe\">\n",
       "  <thead>\n",
       "    <tr style=\"text-align: right;\">\n",
       "      <th></th>\n",
       "      <th>id</th>\n",
       "      <th>Time</th>\n",
       "      <th>S1</th>\n",
       "      <th>S2</th>\n",
       "      <th>S3</th>\n",
       "      <th>S4</th>\n",
       "    </tr>\n",
       "  </thead>\n",
       "  <tbody>\n",
       "    <tr>\n",
       "      <th>count</th>\n",
       "      <td>262500.000000</td>\n",
       "      <td>262500.000000</td>\n",
       "      <td>2.625000e+05</td>\n",
       "      <td>2.625000e+05</td>\n",
       "      <td>2.625000e+05</td>\n",
       "      <td>2.625000e+05</td>\n",
       "    </tr>\n",
       "    <tr>\n",
       "      <th>mean</th>\n",
       "      <td>3149.500000</td>\n",
       "      <td>0.000748</td>\n",
       "      <td>-2.172298e+02</td>\n",
       "      <td>-1.842608e+02</td>\n",
       "      <td>-1.208247e+02</td>\n",
       "      <td>-8.578727e+02</td>\n",
       "    </tr>\n",
       "    <tr>\n",
       "      <th>std</th>\n",
       "      <td>202.072773</td>\n",
       "      <td>0.000433</td>\n",
       "      <td>2.303438e+05</td>\n",
       "      <td>2.285628e+05</td>\n",
       "      <td>2.282941e+05</td>\n",
       "      <td>2.691352e+05</td>\n",
       "    </tr>\n",
       "    <tr>\n",
       "      <th>min</th>\n",
       "      <td>2800.000000</td>\n",
       "      <td>0.000000</td>\n",
       "      <td>-3.027980e+06</td>\n",
       "      <td>-2.783507e+06</td>\n",
       "      <td>-2.399706e+06</td>\n",
       "      <td>-5.163090e+06</td>\n",
       "    </tr>\n",
       "    <tr>\n",
       "      <th>25%</th>\n",
       "      <td>2974.750000</td>\n",
       "      <td>0.000372</td>\n",
       "      <td>-7.873856e+04</td>\n",
       "      <td>-7.896356e+04</td>\n",
       "      <td>-8.323576e+04</td>\n",
       "      <td>-7.888264e+04</td>\n",
       "    </tr>\n",
       "    <tr>\n",
       "      <th>50%</th>\n",
       "      <td>3149.500000</td>\n",
       "      <td>0.000748</td>\n",
       "      <td>0.000000e+00</td>\n",
       "      <td>0.000000e+00</td>\n",
       "      <td>0.000000e+00</td>\n",
       "      <td>0.000000e+00</td>\n",
       "    </tr>\n",
       "    <tr>\n",
       "      <th>75%</th>\n",
       "      <td>3324.250000</td>\n",
       "      <td>0.001124</td>\n",
       "      <td>7.698237e+04</td>\n",
       "      <td>7.719620e+04</td>\n",
       "      <td>8.165685e+04</td>\n",
       "      <td>7.845508e+04</td>\n",
       "    </tr>\n",
       "    <tr>\n",
       "      <th>max</th>\n",
       "      <td>3499.000000</td>\n",
       "      <td>0.001496</td>\n",
       "      <td>3.022443e+06</td>\n",
       "      <td>2.877832e+06</td>\n",
       "      <td>2.486714e+06</td>\n",
       "      <td>4.305746e+06</td>\n",
       "    </tr>\n",
       "  </tbody>\n",
       "</table>\n",
       "</div>"
      ],
      "text/plain": [
       "                  id           Time            S1            S2            S3  \\\n",
       "count  262500.000000  262500.000000  2.625000e+05  2.625000e+05  2.625000e+05   \n",
       "mean     3149.500000       0.000748 -2.172298e+02 -1.842608e+02 -1.208247e+02   \n",
       "std       202.072773       0.000433  2.303438e+05  2.285628e+05  2.282941e+05   \n",
       "min      2800.000000       0.000000 -3.027980e+06 -2.783507e+06 -2.399706e+06   \n",
       "25%      2974.750000       0.000372 -7.873856e+04 -7.896356e+04 -8.323576e+04   \n",
       "50%      3149.500000       0.000748  0.000000e+00  0.000000e+00  0.000000e+00   \n",
       "75%      3324.250000       0.001124  7.698237e+04  7.719620e+04  8.165685e+04   \n",
       "max      3499.000000       0.001496  3.022443e+06  2.877832e+06  2.486714e+06   \n",
       "\n",
       "                 S4  \n",
       "count  2.625000e+05  \n",
       "mean  -8.578727e+02  \n",
       "std    2.691352e+05  \n",
       "min   -5.163090e+06  \n",
       "25%   -7.888264e+04  \n",
       "50%    0.000000e+00  \n",
       "75%    7.845508e+04  \n",
       "max    4.305746e+06  "
      ]
     },
     "execution_count": 12,
     "metadata": {},
     "output_type": "execute_result"
    }
   ],
   "source": [
    "test_f.describe()"
   ]
  },
  {
   "cell_type": "code",
   "execution_count": 13,
   "metadata": {},
   "outputs": [
    {
     "data": {
      "text/plain": [
       "175.0    400\n",
       "150.0    400\n",
       "75.0     400\n",
       "125.0    400\n",
       "25.0     400\n",
       "100.0    400\n",
       "50.0     400\n",
       "Name: M, dtype: int64"
      ]
     },
     "execution_count": 13,
     "metadata": {},
     "output_type": "execute_result"
    }
   ],
   "source": [
    "train_t['M'].value_counts()"
   ]
  },
  {
   "cell_type": "code",
   "execution_count": 14,
   "metadata": {},
   "outputs": [
    {
     "data": {
      "text/plain": [
       "-300.0    315\n",
       " 300.0    315\n",
       "-200.0    315\n",
       " 100.0    315\n",
       "-100.0    315\n",
       "-400.0    315\n",
       " 200.0    315\n",
       " 400.0    315\n",
       " 0.0      280\n",
       "Name: X, dtype: int64"
      ]
     },
     "execution_count": 14,
     "metadata": {},
     "output_type": "execute_result"
    }
   ],
   "source": [
    "train_t['X'].value_counts()"
   ]
  },
  {
   "cell_type": "code",
   "execution_count": 15,
   "metadata": {},
   "outputs": [
    {
     "data": {
      "text/plain": [
       "-300.0    315\n",
       " 300.0    315\n",
       " 100.0    315\n",
       " 200.0    315\n",
       "-100.0    315\n",
       "-200.0    315\n",
       " 0.0      315\n",
       "-400.0    315\n",
       " 400.0    280\n",
       "Name: Y, dtype: int64"
      ]
     },
     "execution_count": 15,
     "metadata": {},
     "output_type": "execute_result"
    }
   ],
   "source": [
    "train_t['Y'].value_counts()"
   ]
  },
  {
   "cell_type": "code",
   "execution_count": 16,
   "metadata": {},
   "outputs": [
    {
     "data": {
      "text/plain": [
       "0.8    560\n",
       "0.2    560\n",
       "0.4    560\n",
       "0.6    560\n",
       "1.0    560\n",
       "Name: V, dtype: int64"
      ]
     },
     "execution_count": 16,
     "metadata": {},
     "output_type": "execute_result"
    }
   ],
   "source": [
    "train_t['V'].value_counts()"
   ]
  },
  {
   "cell_type": "markdown",
   "metadata": {},
   "source": [
    "### preprocessing"
   ]
  },
  {
   "cell_type": "code",
   "execution_count": 25,
   "metadata": {},
   "outputs": [],
   "source": [
    "def preprocess(data):\n",
    "    # convert time sec to order number\n",
    "    data['Time'] /= 0.000004\n",
    "    data['Time'] = data['Time'].astype(np.int16).astype(str)\n",
    "    \n",
    "    # pivot\n",
    "    data_pivot = data.pivot_table(index = 'id', values= ['S1','S2','S3','S4'], columns='Time')\n",
    "    data_pivot.columns = ['_'.join(x) for x in data_pivot.columns.values]\n",
    "    \n",
    "    return data_pivot"
   ]
  },
  {
   "cell_type": "code",
   "execution_count": 26,
   "metadata": {},
   "outputs": [],
   "source": [
    "trn = preprocess(train_f)"
   ]
  },
  {
   "cell_type": "code",
   "execution_count": 27,
   "metadata": {},
   "outputs": [
    {
     "data": {
      "text/html": [
       "<div>\n",
       "<style scoped>\n",
       "    .dataframe tbody tr th:only-of-type {\n",
       "        vertical-align: middle;\n",
       "    }\n",
       "\n",
       "    .dataframe tbody tr th {\n",
       "        vertical-align: top;\n",
       "    }\n",
       "\n",
       "    .dataframe thead th {\n",
       "        text-align: right;\n",
       "    }\n",
       "</style>\n",
       "<table border=\"1\" class=\"dataframe\">\n",
       "  <thead>\n",
       "    <tr style=\"text-align: right;\">\n",
       "      <th></th>\n",
       "      <th>S1_0</th>\n",
       "      <th>S1_1</th>\n",
       "      <th>S1_10</th>\n",
       "      <th>S1_100</th>\n",
       "      <th>S1_101</th>\n",
       "      <th>S1_102</th>\n",
       "      <th>S1_103</th>\n",
       "      <th>S1_104</th>\n",
       "      <th>S1_105</th>\n",
       "      <th>S1_106</th>\n",
       "      <th>...</th>\n",
       "      <th>S4_90</th>\n",
       "      <th>S4_91</th>\n",
       "      <th>S4_92</th>\n",
       "      <th>S4_93</th>\n",
       "      <th>S4_94</th>\n",
       "      <th>S4_95</th>\n",
       "      <th>S4_96</th>\n",
       "      <th>S4_97</th>\n",
       "      <th>S4_98</th>\n",
       "      <th>S4_99</th>\n",
       "    </tr>\n",
       "    <tr>\n",
       "      <th>id</th>\n",
       "      <th></th>\n",
       "      <th></th>\n",
       "      <th></th>\n",
       "      <th></th>\n",
       "      <th></th>\n",
       "      <th></th>\n",
       "      <th></th>\n",
       "      <th></th>\n",
       "      <th></th>\n",
       "      <th></th>\n",
       "      <th></th>\n",
       "      <th></th>\n",
       "      <th></th>\n",
       "      <th></th>\n",
       "      <th></th>\n",
       "      <th></th>\n",
       "      <th></th>\n",
       "      <th></th>\n",
       "      <th></th>\n",
       "      <th></th>\n",
       "      <th></th>\n",
       "    </tr>\n",
       "  </thead>\n",
       "  <tbody>\n",
       "    <tr>\n",
       "      <th>0</th>\n",
       "      <td>0.0</td>\n",
       "      <td>0.0</td>\n",
       "      <td>-4.972607e-08</td>\n",
       "      <td>139454.800</td>\n",
       "      <td>168428.900</td>\n",
       "      <td>191703.7000</td>\n",
       "      <td>208145.90</td>\n",
       "      <td>219978.20</td>\n",
       "      <td>224587.20</td>\n",
       "      <td>218900.50</td>\n",
       "      <td>...</td>\n",
       "      <td>-2.154438e+02</td>\n",
       "      <td>-14557.57</td>\n",
       "      <td>-33901.75</td>\n",
       "      <td>-52578.66</td>\n",
       "      <td>-62459.04</td>\n",
       "      <td>-53790.86</td>\n",
       "      <td>-32473.27</td>\n",
       "      <td>-11799.29</td>\n",
       "      <td>9057.05</td>\n",
       "      <td>34479.76</td>\n",
       "    </tr>\n",
       "    <tr>\n",
       "      <th>1</th>\n",
       "      <td>0.0</td>\n",
       "      <td>0.0</td>\n",
       "      <td>0.000000e+00</td>\n",
       "      <td>8151.302</td>\n",
       "      <td>4888.677</td>\n",
       "      <td>-615.5879</td>\n",
       "      <td>-12015.93</td>\n",
       "      <td>-30952.12</td>\n",
       "      <td>-48913.93</td>\n",
       "      <td>-49925.75</td>\n",
       "      <td>...</td>\n",
       "      <td>1.024173e+06</td>\n",
       "      <td>1095499.00</td>\n",
       "      <td>1061209.00</td>\n",
       "      <td>909563.40</td>\n",
       "      <td>648399.00</td>\n",
       "      <td>339156.30</td>\n",
       "      <td>-42677.19</td>\n",
       "      <td>-428476.10</td>\n",
       "      <td>-812719.70</td>\n",
       "      <td>-1074859.00</td>\n",
       "    </tr>\n",
       "    <tr>\n",
       "      <th>2</th>\n",
       "      <td>0.0</td>\n",
       "      <td>0.0</td>\n",
       "      <td>-1.874429e+02</td>\n",
       "      <td>-16723.000</td>\n",
       "      <td>-16074.190</td>\n",
       "      <td>-16368.0900</td>\n",
       "      <td>-13730.92</td>\n",
       "      <td>-11915.05</td>\n",
       "      <td>-13439.89</td>\n",
       "      <td>-14359.60</td>\n",
       "      <td>...</td>\n",
       "      <td>7.912616e+04</td>\n",
       "      <td>113238.90</td>\n",
       "      <td>139822.00</td>\n",
       "      <td>147123.50</td>\n",
       "      <td>132768.60</td>\n",
       "      <td>93479.66</td>\n",
       "      <td>28656.93</td>\n",
       "      <td>-41169.07</td>\n",
       "      <td>-110139.00</td>\n",
       "      <td>-161226.80</td>\n",
       "    </tr>\n",
       "    <tr>\n",
       "      <th>3</th>\n",
       "      <td>0.0</td>\n",
       "      <td>0.0</td>\n",
       "      <td>0.000000e+00</td>\n",
       "      <td>-73672.230</td>\n",
       "      <td>-82998.010</td>\n",
       "      <td>-90253.4800</td>\n",
       "      <td>-89981.46</td>\n",
       "      <td>-77092.49</td>\n",
       "      <td>-52874.01</td>\n",
       "      <td>-24631.03</td>\n",
       "      <td>...</td>\n",
       "      <td>3.916571e+04</td>\n",
       "      <td>-17841.29</td>\n",
       "      <td>-75468.21</td>\n",
       "      <td>-124241.60</td>\n",
       "      <td>-176415.80</td>\n",
       "      <td>-229249.60</td>\n",
       "      <td>-289117.70</td>\n",
       "      <td>-343540.60</td>\n",
       "      <td>-398224.60</td>\n",
       "      <td>-441401.90</td>\n",
       "    </tr>\n",
       "    <tr>\n",
       "      <th>4</th>\n",
       "      <td>0.0</td>\n",
       "      <td>0.0</td>\n",
       "      <td>-5.395420e+00</td>\n",
       "      <td>-124438.100</td>\n",
       "      <td>-134954.000</td>\n",
       "      <td>-144245.1000</td>\n",
       "      <td>-153940.10</td>\n",
       "      <td>-164849.00</td>\n",
       "      <td>-173207.00</td>\n",
       "      <td>-175876.50</td>\n",
       "      <td>...</td>\n",
       "      <td>5.953886e+03</td>\n",
       "      <td>48055.03</td>\n",
       "      <td>93281.80</td>\n",
       "      <td>132627.00</td>\n",
       "      <td>171026.90</td>\n",
       "      <td>201571.80</td>\n",
       "      <td>226705.70</td>\n",
       "      <td>238129.60</td>\n",
       "      <td>238082.50</td>\n",
       "      <td>227932.50</td>\n",
       "    </tr>\n",
       "  </tbody>\n",
       "</table>\n",
       "<p>5 rows × 1456 columns</p>\n",
       "</div>"
      ],
      "text/plain": [
       "    S1_0  S1_1         S1_10      S1_100      S1_101       S1_102     S1_103  \\\n",
       "id                                                                             \n",
       "0    0.0   0.0 -4.972607e-08  139454.800  168428.900  191703.7000  208145.90   \n",
       "1    0.0   0.0  0.000000e+00    8151.302    4888.677    -615.5879  -12015.93   \n",
       "2    0.0   0.0 -1.874429e+02  -16723.000  -16074.190  -16368.0900  -13730.92   \n",
       "3    0.0   0.0  0.000000e+00  -73672.230  -82998.010  -90253.4800  -89981.46   \n",
       "4    0.0   0.0 -5.395420e+00 -124438.100 -134954.000 -144245.1000 -153940.10   \n",
       "\n",
       "       S1_104     S1_105     S1_106  ...         S4_90       S4_91  \\\n",
       "id                                   ...                             \n",
       "0   219978.20  224587.20  218900.50  ... -2.154438e+02   -14557.57   \n",
       "1   -30952.12  -48913.93  -49925.75  ...  1.024173e+06  1095499.00   \n",
       "2   -11915.05  -13439.89  -14359.60  ...  7.912616e+04   113238.90   \n",
       "3   -77092.49  -52874.01  -24631.03  ...  3.916571e+04   -17841.29   \n",
       "4  -164849.00 -173207.00 -175876.50  ...  5.953886e+03    48055.03   \n",
       "\n",
       "         S4_92      S4_93      S4_94      S4_95      S4_96      S4_97  \\\n",
       "id                                                                      \n",
       "0    -33901.75  -52578.66  -62459.04  -53790.86  -32473.27  -11799.29   \n",
       "1   1061209.00  909563.40  648399.00  339156.30  -42677.19 -428476.10   \n",
       "2    139822.00  147123.50  132768.60   93479.66   28656.93  -41169.07   \n",
       "3    -75468.21 -124241.60 -176415.80 -229249.60 -289117.70 -343540.60   \n",
       "4     93281.80  132627.00  171026.90  201571.80  226705.70  238129.60   \n",
       "\n",
       "        S4_98       S4_99  \n",
       "id                         \n",
       "0     9057.05    34479.76  \n",
       "1  -812719.70 -1074859.00  \n",
       "2  -110139.00  -161226.80  \n",
       "3  -398224.60  -441401.90  \n",
       "4   238082.50   227932.50  \n",
       "\n",
       "[5 rows x 1456 columns]"
      ]
     },
     "execution_count": 27,
     "metadata": {},
     "output_type": "execute_result"
    }
   ],
   "source": [
    "trn.head()"
   ]
  },
  {
   "cell_type": "code",
   "execution_count": 36,
   "metadata": {},
   "outputs": [],
   "source": [
    "train = trn.loc[~trn.index.isin(val_id)]\n",
    "valid = trn.loc[trn.index.isin(val_id)]\n",
    "train_y = train_t.loc[~train_t['id'].isin(val_id)]\n",
    "valid_y = train_t.loc[train_t['id'].isin(val_id)]"
   ]
  },
  {
   "cell_type": "code",
   "execution_count": 45,
   "metadata": {},
   "outputs": [],
   "source": [
    "test = preprocess(test_f)"
   ]
  },
  {
   "cell_type": "code",
   "execution_count": 58,
   "metadata": {},
   "outputs": [],
   "source": [
    "import lightgbm as lgb\n",
    "from sklearn.model_selection import KFold"
   ]
  },
  {
   "cell_type": "code",
   "execution_count": 96,
   "metadata": {},
   "outputs": [],
   "source": [
    "params = {\n",
    "    'learning_rate':0.05,\n",
    "    'num_boost_round':1000,\n",
    "    'num_leaves':64,\n",
    "    'objective':'mse',\n",
    "    'boosting':'gbdt',\n",
    "    'seed':83,\n",
    "    'max_depth':4,\n",
    "    'bagging_fraction':0.7,\n",
    "    'feature_fraction':0.7,\n",
    "    'early_stopping_round':100,\n",
    "    'lambda_l2':0.00001,\n",
    "    'verbosity':-1\n",
    "    \n",
    "}"
   ]
  },
  {
   "cell_type": "code",
   "execution_count": 97,
   "metadata": {},
   "outputs": [],
   "source": [
    "nfold = 10\n",
    "fold = KFold(nfold, shuffle = True, random_state= 25)"
   ]
  },
  {
   "cell_type": "code",
   "execution_count": null,
   "metadata": {},
   "outputs": [],
   "source": [
    "predict = {'X':np.zeros(700), 'Y':np.zeros(700), 'M':np.zeros(700), 'V':np.zeros(700)}\n",
    "loss = {'X':[],'Y':[],'M':[],'V':[]}\n",
    "for train_idx, val_idx in fold.split(trn, y = train_t):\n",
    "    for target in ['X','Y','M','V']:\n",
    "        trainx_fold = trn.iloc[train_idx]\n",
    "        validx_fold = trn.iloc[val_idx]\n",
    "        trainy_fold = train_t.iloc[train_idx]\n",
    "        validy_fold = train_t.iloc[val_idx]\n",
    "        \n",
    "        train_dataset = lgb.Dataset(trainx_fold, trainy_fold[target])\n",
    "        valid_dataset = lgb.Dataset(validx_fold, validy_fold[target])\n",
    "\n",
    "        model = lgb.train(params, train_set=train_dataset, valid_sets = valid_dataset)\n",
    "        predict[target] += model.predict(test)\n",
    "        loss[target].append(model.best_score['valid_0']['l2'])"
   ]
  },
  {
   "cell_type": "code",
   "execution_count": 100,
   "metadata": {},
   "outputs": [],
   "source": [
    "submission = pd.read_csv(os.path.join(root_dir, 'sample_submission.csv'))\n",
    "\n",
    "submission.shape\n",
    "\n",
    "submission['X'] = predict['X'] / nfold\n",
    "submission['Y'] = predict['Y'] / nfold\n",
    "submission['M'] = predict['M'] / nfold\n",
    "submission['V'] = predict['V'] / nfold\n",
    "\n",
    "submission.to_csv(os.path.join(root_dir, 'lgb_cv_20200622.csv'), index = False)"
   ]
  }
 ],
 "metadata": {
  "kernelspec": {
   "display_name": "Python 3",
   "language": "python",
   "name": "python3"
  },
  "language_info": {
   "codemirror_mode": {
    "name": "ipython",
    "version": 3
   },
   "file_extension": ".py",
   "mimetype": "text/x-python",
   "name": "python",
   "nbconvert_exporter": "python",
   "pygments_lexer": "ipython3",
   "version": "3.7.0"
  }
 },
 "nbformat": 4,
 "nbformat_minor": 4
}
