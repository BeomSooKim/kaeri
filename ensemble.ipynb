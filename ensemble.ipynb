{
 "cells": [
  {
   "cell_type": "code",
   "execution_count": 2,
   "metadata": {},
   "outputs": [],
   "source": [
    "import pandas as pd\n",
    "import os\n",
    "import numpy as np"
   ]
  },
  {
   "cell_type": "code",
   "execution_count": 11,
   "metadata": {},
   "outputs": [],
   "source": [
    "folder = [\n",
    "    './model/20200703-131709',\n",
    "    './model/20200703-143537',\n",
    "    './model/20200703-154807'\n",
    "]"
   ]
  },
  {
   "cell_type": "code",
   "execution_count": 12,
   "metadata": {},
   "outputs": [],
   "source": [
    "values = np.zeros((700, 4))\n",
    "for f in folder:\n",
    "    data = pd.read_csv(os.path.join(f, f.split('/')[-1] + '.csv'))\n",
    "    values += data[['X','Y','M','V']].values * 10"
   ]
  },
  {
   "cell_type": "code",
   "execution_count": 13,
   "metadata": {},
   "outputs": [
    {
     "data": {
      "text/html": [
       "<div>\n",
       "<style scoped>\n",
       "    .dataframe tbody tr th:only-of-type {\n",
       "        vertical-align: middle;\n",
       "    }\n",
       "\n",
       "    .dataframe tbody tr th {\n",
       "        vertical-align: top;\n",
       "    }\n",
       "\n",
       "    .dataframe thead th {\n",
       "        text-align: right;\n",
       "    }\n",
       "</style>\n",
       "<table border=\"1\" class=\"dataframe\">\n",
       "  <thead>\n",
       "    <tr style=\"text-align: right;\">\n",
       "      <th></th>\n",
       "      <th>id</th>\n",
       "      <th>X</th>\n",
       "      <th>Y</th>\n",
       "      <th>M</th>\n",
       "      <th>V</th>\n",
       "    </tr>\n",
       "  </thead>\n",
       "  <tbody>\n",
       "    <tr>\n",
       "      <th>0</th>\n",
       "      <td>2800</td>\n",
       "      <td>-262.993052</td>\n",
       "      <td>-41.023469</td>\n",
       "      <td>111.733625</td>\n",
       "      <td>0.445592</td>\n",
       "    </tr>\n",
       "    <tr>\n",
       "      <th>1</th>\n",
       "      <td>2801</td>\n",
       "      <td>316.136841</td>\n",
       "      <td>-286.076660</td>\n",
       "      <td>89.493334</td>\n",
       "      <td>0.470066</td>\n",
       "    </tr>\n",
       "    <tr>\n",
       "      <th>2</th>\n",
       "      <td>2802</td>\n",
       "      <td>-236.425039</td>\n",
       "      <td>131.144572</td>\n",
       "      <td>30.003504</td>\n",
       "      <td>0.386078</td>\n",
       "    </tr>\n",
       "    <tr>\n",
       "      <th>3</th>\n",
       "      <td>2803</td>\n",
       "      <td>164.544769</td>\n",
       "      <td>274.840627</td>\n",
       "      <td>27.184500</td>\n",
       "      <td>0.402589</td>\n",
       "    </tr>\n",
       "    <tr>\n",
       "      <th>4</th>\n",
       "      <td>2804</td>\n",
       "      <td>-166.173167</td>\n",
       "      <td>191.506663</td>\n",
       "      <td>131.683339</td>\n",
       "      <td>0.440776</td>\n",
       "    </tr>\n",
       "  </tbody>\n",
       "</table>\n",
       "</div>"
      ],
      "text/plain": [
       "     id           X           Y           M         V\n",
       "0  2800 -262.993052  -41.023469  111.733625  0.445592\n",
       "1  2801  316.136841 -286.076660   89.493334  0.470066\n",
       "2  2802 -236.425039  131.144572   30.003504  0.386078\n",
       "3  2803  164.544769  274.840627   27.184500  0.402589\n",
       "4  2804 -166.173167  191.506663  131.683339  0.440776"
      ]
     },
     "execution_count": 13,
     "metadata": {},
     "output_type": "execute_result"
    }
   ],
   "source": [
    "values = values / 30\n",
    "submission = pd.read_csv('D:/datasets/KAERI_dataset/sample_submission.csv')\n",
    "submission[['X','Y','M','V']] = values\n",
    "submission.head()"
   ]
  },
  {
   "cell_type": "code",
   "execution_count": 14,
   "metadata": {},
   "outputs": [],
   "source": [
    "submission.to_csv(os.path.join(folder[-1], 'ensemble_submit.csv'), index = False)"
   ]
  }
 ],
 "metadata": {
  "kernelspec": {
   "display_name": "Python 3",
   "language": "python",
   "name": "python3"
  },
  "language_info": {
   "codemirror_mode": {
    "name": "ipython",
    "version": 3
   },
   "file_extension": ".py",
   "mimetype": "text/x-python",
   "name": "python",
   "nbconvert_exporter": "python",
   "pygments_lexer": "ipython3",
   "version": "3.7.0"
  }
 },
 "nbformat": 4,
 "nbformat_minor": 4
}
