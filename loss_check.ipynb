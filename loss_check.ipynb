{
 "cells": [
  {
   "cell_type": "code",
   "execution_count": 7,
   "metadata": {},
   "outputs": [],
   "source": [
    "import os, json"
   ]
  },
  {
   "cell_type": "code",
   "execution_count": 32,
   "metadata": {},
   "outputs": [],
   "source": [
    "model_list = os.listdir('./model')\n",
    "\n",
    "result = {}\n",
    "for md in model_list:\n",
    "    file_name = os.path.join('./model', md, 'loss_info.json')\n",
    "    if os.path.exists(file_name):\n",
    "        with open(file_name, 'r') as f:   \n",
    "            loss = json.load(f)\n",
    "        result[md] = sum(loss.values()) / len(loss)"
   ]
  },
  {
   "cell_type": "code",
   "execution_count": 33,
   "metadata": {},
   "outputs": [
    {
     "data": {
      "text/plain": [
       "{'20200626-142930': 0.23176997654192324,\n",
       " '20200626-143835': 0.008150581475577526,\n",
       " '20200626-151303': 0.028865414700185426,\n",
       " '20200626-162452': 0.009266219157255092,\n",
       " '20200701-103001': 0.006729165887974048,\n",
       " '20200701-112954': 0.005323828231888828,\n",
       " '20200701-120827': 0.004543361340974568}"
      ]
     },
     "execution_count": 33,
     "metadata": {},
     "output_type": "execute_result"
    }
   ],
   "source": [
    "result"
   ]
  }
 ],
 "metadata": {
  "kernelspec": {
   "display_name": "Python 3",
   "language": "python",
   "name": "python3"
  },
  "language_info": {
   "codemirror_mode": {
    "name": "ipython",
    "version": 3
   },
   "file_extension": ".py",
   "mimetype": "text/x-python",
   "name": "python",
   "nbconvert_exporter": "python",
   "pygments_lexer": "ipython3",
   "version": "3.7.0"
  }
 },
 "nbformat": 4,
 "nbformat_minor": 4
}
